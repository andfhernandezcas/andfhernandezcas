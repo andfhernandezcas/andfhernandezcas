{
    "cells": [
        {
            "metadata": {},
            "cell_type": "markdown",
            "source": "### Descripci\u00f3n"
        },
        {
            "metadata": {},
            "cell_type": "code",
            "source": "\nimport os, types\nimport pandas as pd\nfrom botocore.client import Config\nimport ibm_boto3\n\ndef __iter__(self): return 0\n\n# @hidden_cell\n# The following code accesses a file in your IBM Cloud Object Storage. It includes your credentials.\n# You might want to remove those credentials before you share the notebook.\n\nif os.environ.get('RUNTIME_ENV_LOCATION_TYPE') == 'external':\n    endpoint_67439fc30a4740b3bc81f547d132fb81 = 'https://s3.us.cloud-object-storage.appdomain.cloud'\nelse:\n    endpoint_67439fc30a4740b3bc81f547d132fb81 = 'https://s3.private.us.cloud-object-storage.appdomain.cloud'\n\nclient_67439fc30a4740b3bc81f547d132fb81 = ibm_boto3.client(service_name='s3',\n    ibm_api_key_id='qtC8n9qSJ0ILeta4Q1bmjlLb7rBSvxyOVK9eAR7F3_7U',\n    ibm_auth_endpoint=\"https://iam.cloud.ibm.com/oidc/token\",\n    config=Config(signature_version='oauth'),\n    endpoint_url=endpoint_67439fc30a4740b3bc81f547d132fb81)\n\nbody = client_67439fc30a4740b3bc81f547d132fb81.get_object(Bucket='holatu-donotdelete-pr-5qbqjsil6eizmq',Key='BBDD_Cluster_VF-Hoja3.csv')['Body']\n# add missing __iter__ method, so pandas accepts body as file-like object\nif not hasattr(body, \"__iter__\"): body.__iter__ = types.MethodType( __iter__, body )\n\ndf_data_1 = pd.read_csv(body)\ndf_data_1.head()\n",
            "execution_count": 1,
            "outputs": [
                {
                    "output_type": "execute_result",
                    "execution_count": 1,
                    "data": {
                        "text/plain": "   Login  Cant  Iberdrola_Asesoria  Iberdrola_Escucha_Activa  \\\n0   1001    59              27.12%                     8.47%   \n1   1005    74              32.43%                     9.46%   \n2   1008   131              28.24%                     1.53%   \n3   1009    57              29.82%                     3.51%   \n4   1010    88              14.77%                     7.95%   \n\n   Iberdrola_Inseguridad  Iberdrola_D5_Sondeo  Iberdrola_NV_Amabilidad  \\\n0                  0.00%               38.98%                   54.24%   \n1                  0.00%               51.35%                   81.08%   \n2                  0.00%               38.17%                   65.65%   \n3                  0.00%               38.60%                   54.39%   \n4                  0.00%               36.36%                   86.36%   \n\n   Iberdrola_NV_Asesoria  Iberdrola_NV_Empatia  \\\n0                 22.03%                18.64%   \n1                 36.49%                28.38%   \n2                 26.72%                25.19%   \n3                 28.07%                33.33%   \n4                 15.91%                28.41%   \n\n   Iberdrola_NV_Rebate_Beneficios  ...  Iber_CA_Sondeo_Consumo  \\\n0                          13.56%  ...                   3.39%   \n1                          45.95%  ...                   0.00%   \n2                          23.66%  ...                   0.76%   \n3                          15.79%  ...                   0.00%   \n4                          35.23%  ...                   0.00%   \n\n   Iber_CA_Sondeo_Potencia  Iber_CA_Sondeo_tiene_Servicio_Gas  \\\n0                   13.56%                              0.00%   \n1                    5.41%                              2.70%   \n2                    6.11%                              1.53%   \n3                   10.53%                              0.00%   \n4                    0.00%                              2.27%   \n\n   Iber_BE_Tarifa_Plana  Iberdrola_BE_Dos_Meses_Gratis  \\\n0                 0.00%                          8.47%   \n1                 0.00%                          2.70%   \n2                 0.00%                          0.00%   \n3                 0.00%                          0.00%   \n4                 0.00%                          0.00%   \n\n   Iber_HB_Sondeo_Tiene_Bono_Social  Iber_HB_Sondeo_Tiene_Servicio_gas  \\\n0                             1.69%                              0.00%   \n1                             2.70%                              2.70%   \n2                             0.76%                              1.53%   \n3                             8.77%                              0.00%   \n4                             3.41%                              2.27%   \n\n    VENTA  Porcentaje_de_tiempo_en_silencio         TMO  \n0  20.34%                            16.91%  621.915254  \n1   4.05%                            17.83%  325.797297  \n2   3.05%                            13.43%  197.236641  \n3   7.02%                            10.44%  249.947368  \n4   0.00%                            12.31%  153.568182  \n\n[5 rows x 38 columns]",
                        "text/html": "<div>\n<style scoped>\n    .dataframe tbody tr th:only-of-type {\n        vertical-align: middle;\n    }\n\n    .dataframe tbody tr th {\n        vertical-align: top;\n    }\n\n    .dataframe thead th {\n        text-align: right;\n    }\n</style>\n<table border=\"1\" class=\"dataframe\">\n  <thead>\n    <tr style=\"text-align: right;\">\n      <th></th>\n      <th>Login</th>\n      <th>Cant</th>\n      <th>Iberdrola_Asesoria</th>\n      <th>Iberdrola_Escucha_Activa</th>\n      <th>Iberdrola_Inseguridad</th>\n      <th>Iberdrola_D5_Sondeo</th>\n      <th>Iberdrola_NV_Amabilidad</th>\n      <th>Iberdrola_NV_Asesoria</th>\n      <th>Iberdrola_NV_Empatia</th>\n      <th>Iberdrola_NV_Rebate_Beneficios</th>\n      <th>...</th>\n      <th>Iber_CA_Sondeo_Consumo</th>\n      <th>Iber_CA_Sondeo_Potencia</th>\n      <th>Iber_CA_Sondeo_tiene_Servicio_Gas</th>\n      <th>Iber_BE_Tarifa_Plana</th>\n      <th>Iberdrola_BE_Dos_Meses_Gratis</th>\n      <th>Iber_HB_Sondeo_Tiene_Bono_Social</th>\n      <th>Iber_HB_Sondeo_Tiene_Servicio_gas</th>\n      <th>VENTA</th>\n      <th>Porcentaje_de_tiempo_en_silencio</th>\n      <th>TMO</th>\n    </tr>\n  </thead>\n  <tbody>\n    <tr>\n      <th>0</th>\n      <td>1001</td>\n      <td>59</td>\n      <td>27.12%</td>\n      <td>8.47%</td>\n      <td>0.00%</td>\n      <td>38.98%</td>\n      <td>54.24%</td>\n      <td>22.03%</td>\n      <td>18.64%</td>\n      <td>13.56%</td>\n      <td>...</td>\n      <td>3.39%</td>\n      <td>13.56%</td>\n      <td>0.00%</td>\n      <td>0.00%</td>\n      <td>8.47%</td>\n      <td>1.69%</td>\n      <td>0.00%</td>\n      <td>20.34%</td>\n      <td>16.91%</td>\n      <td>621.915254</td>\n    </tr>\n    <tr>\n      <th>1</th>\n      <td>1005</td>\n      <td>74</td>\n      <td>32.43%</td>\n      <td>9.46%</td>\n      <td>0.00%</td>\n      <td>51.35%</td>\n      <td>81.08%</td>\n      <td>36.49%</td>\n      <td>28.38%</td>\n      <td>45.95%</td>\n      <td>...</td>\n      <td>0.00%</td>\n      <td>5.41%</td>\n      <td>2.70%</td>\n      <td>0.00%</td>\n      <td>2.70%</td>\n      <td>2.70%</td>\n      <td>2.70%</td>\n      <td>4.05%</td>\n      <td>17.83%</td>\n      <td>325.797297</td>\n    </tr>\n    <tr>\n      <th>2</th>\n      <td>1008</td>\n      <td>131</td>\n      <td>28.24%</td>\n      <td>1.53%</td>\n      <td>0.00%</td>\n      <td>38.17%</td>\n      <td>65.65%</td>\n      <td>26.72%</td>\n      <td>25.19%</td>\n      <td>23.66%</td>\n      <td>...</td>\n      <td>0.76%</td>\n      <td>6.11%</td>\n      <td>1.53%</td>\n      <td>0.00%</td>\n      <td>0.00%</td>\n      <td>0.76%</td>\n      <td>1.53%</td>\n      <td>3.05%</td>\n      <td>13.43%</td>\n      <td>197.236641</td>\n    </tr>\n    <tr>\n      <th>3</th>\n      <td>1009</td>\n      <td>57</td>\n      <td>29.82%</td>\n      <td>3.51%</td>\n      <td>0.00%</td>\n      <td>38.60%</td>\n      <td>54.39%</td>\n      <td>28.07%</td>\n      <td>33.33%</td>\n      <td>15.79%</td>\n      <td>...</td>\n      <td>0.00%</td>\n      <td>10.53%</td>\n      <td>0.00%</td>\n      <td>0.00%</td>\n      <td>0.00%</td>\n      <td>8.77%</td>\n      <td>0.00%</td>\n      <td>7.02%</td>\n      <td>10.44%</td>\n      <td>249.947368</td>\n    </tr>\n    <tr>\n      <th>4</th>\n      <td>1010</td>\n      <td>88</td>\n      <td>14.77%</td>\n      <td>7.95%</td>\n      <td>0.00%</td>\n      <td>36.36%</td>\n      <td>86.36%</td>\n      <td>15.91%</td>\n      <td>28.41%</td>\n      <td>35.23%</td>\n      <td>...</td>\n      <td>0.00%</td>\n      <td>0.00%</td>\n      <td>2.27%</td>\n      <td>0.00%</td>\n      <td>0.00%</td>\n      <td>3.41%</td>\n      <td>2.27%</td>\n      <td>0.00%</td>\n      <td>12.31%</td>\n      <td>153.568182</td>\n    </tr>\n  </tbody>\n</table>\n<p>5 rows \u00d7 38 columns</p>\n</div>"
                    },
                    "metadata": {}
                }
            ]
        },
        {
            "metadata": {},
            "cell_type": "code",
            "source": "",
            "execution_count": null,
            "outputs": []
        }
    ],
    "metadata": {
        "kernelspec": {
            "name": "python3",
            "display_name": "Python 3.8",
            "language": "python"
        },
        "language_info": {
            "name": "python",
            "version": "3.8.10",
            "mimetype": "text/x-python",
            "codemirror_mode": {
                "name": "ipython",
                "version": 3
            },
            "pygments_lexer": "ipython3",
            "nbconvert_exporter": "python",
            "file_extension": ".py"
        }
    },
    "nbformat": 4,
    "nbformat_minor": 1
}